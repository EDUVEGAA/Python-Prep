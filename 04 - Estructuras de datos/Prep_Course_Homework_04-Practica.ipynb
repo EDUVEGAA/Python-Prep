{
 "cells": [
  {
   "cell_type": "markdown",
   "metadata": {},
   "source": [
    "1) Crear una lista que contenga nombres de ciudades del mundo que contenga más de 5 elementos e imprimir por pantalla"
   ]
  },
  {
   "cell_type": "code",
   "execution_count": 19,
   "metadata": {},
   "outputs": [
    {
     "name": "stdout",
     "output_type": "stream",
     "text": [
      "['fdfg', 'gdfgdf', 'dfg', 'hgh', 'gjhj']\n"
     ]
    }
   ],
   "source": [
    "def paises_func9():    \n",
    "    a = input(\"digite el pais A: \")\n",
    "    b = input(\"digite el pais B: \")\n",
    "    c = input(\"digite el pais C: \")\n",
    "    d = input(\"digite el pais B: \")\n",
    "    e = input(\"digite el pais C: \")\n",
    "    lista = [a,b,c,d,e] \n",
    "    print(lista)\n",
    "\n",
    "paises_func9()"
   ]
  },
  {
   "cell_type": "markdown",
   "metadata": {},
   "source": []
  }
 ],
 "metadata": {
  "interpreter": {
   "hash": "c869e7d9ad463b59faec27194e79237be9f329765b586a3aee832ee7b18efbb2"
  },
  "kernelspec": {
   "display_name": "Python 3.9.7 64-bit",
   "language": "python",
   "name": "python3"
  },
  "language_info": {
   "codemirror_mode": {
    "name": "ipython",
    "version": 3
   },
   "file_extension": ".py",
   "mimetype": "text/x-python",
   "name": "python",
   "nbconvert_exporter": "python",
   "pygments_lexer": "ipython3",
   "version": "3.9.7"
  },
  "orig_nbformat": 4
 },
 "nbformat": 4,
 "nbformat_minor": 2
}
